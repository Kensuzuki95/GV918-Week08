{
  "nbformat": 4,
  "nbformat_minor": 0,
  "metadata": {
    "kernelspec": {
      "display_name": "Python 3",
      "language": "python",
      "name": "python3"
    },
    "language_info": {
      "codemirror_mode": {
        "name": "ipython",
        "version": 3
      },
      "file_extension": ".py",
      "mimetype": "text/x-python",
      "name": "python",
      "nbconvert_exporter": "python",
      "pygments_lexer": "ipython3",
      "version": "3.7.8"
    },
    "colab": {
      "name": "API-Exercise.ipynb",
      "provenance": []
    }
  },
  "cells": [
    {
      "cell_type": "markdown",
      "metadata": {
        "id": "XxZr1XOoqsIV"
      },
      "source": [
        "# Public Health England, Covid-19 API"
      ]
    },
    {
      "cell_type": "markdown",
      "metadata": {
        "id": "R4DtmrCbqsIV"
      },
      "source": [
        "We are going to work with API of Covid-19 in the UK provided by Public Health England. The API has a python wrapper, so we do not have to code by ourselves, but to get used to the process of accessing API, we first access to the API without the wrapper, and then use the package afterwords.\n",
        "\n",
        "API documentation: https://coronavirus.data.gov.uk/details/developers-guide\n",
        "\n",
        "API endpoint: https://api.coronavirus.data.gov.uk/v1/data\n",
        "\n",
        "uk-covid-19 package documentation: https://pypi.org/project/uk-covid19/\n"
      ]
    },
    {
      "cell_type": "markdown",
      "metadata": {
        "id": "GGGo76izqsIW"
      },
      "source": [
        "## Load packages"
      ]
    },
    {
      "cell_type": "code",
      "metadata": {
        "id": "52wwfJycqsIW"
      },
      "source": [
        "from urllib.request import urlopen\n",
        "import json\n",
        "import gzip\n",
        "import pandas as pd"
      ],
      "execution_count": 1,
      "outputs": []
    },
    {
      "cell_type": "markdown",
      "metadata": {
        "id": "wiHZ2K1jqsIW"
      },
      "source": [
        "## Load example URL"
      ]
    },
    {
      "cell_type": "code",
      "metadata": {
        "id": "1SIPNEv1qsIW"
      },
      "source": [
        "example_url = \"https://api.coronavirus.data.gov.uk/v1/data?filters=areaType=nation;areaName=england&structure={%22date%22:%22date%22,%22areaName%22:%22areaName%22,%22areaCode%22:%22areaCode%22,%22newCasesByPublishDate%22:%22newCasesByPublishDate%22,%22cumCasesByPublishDate%22:%22cumCasesByPublishDate%22,%22newDeathsByDeathDate%22:%22newDeathsByDeathDate%22,%22cumDeathsByDeathDate%22:%22cumDeathsByDeathDate%22}\""
      ],
      "execution_count": null,
      "outputs": []
    },
    {
      "cell_type": "code",
      "metadata": {
        "id": "9vO_sL6RqsIX"
      },
      "source": [
        "response = urlopen(example_url)\n",
        "content_gz = response.read()\n",
        "content_text = gzip.decompress(content_gz)\n",
        "dic_nat = json.loads(content_text.decode('utf-8')) "
      ],
      "execution_count": null,
      "outputs": []
    },
    {
      "cell_type": "code",
      "metadata": {
        "id": "zbRtM-dNqsIX"
      },
      "source": [
        ""
      ],
      "execution_count": null,
      "outputs": []
    },
    {
      "cell_type": "markdown",
      "metadata": {
        "id": "0waPvDAlqsIX"
      },
      "source": [
        "## Make functions to get the data"
      ]
    },
    {
      "cell_type": "markdown",
      "metadata": {
        "id": "twk-J_ZuqsIX"
      },
      "source": [
        "### Function to construct the filter string\n",
        "\n",
        "- we will create a function to create a string like `areaType=nation;areaName=england`, from a dictionary `{'areaType':'nation', 'areaName': 'england'}`"
      ]
    },
    {
      "cell_type": "code",
      "metadata": {
        "id": "R2C_rJVZqsIX"
      },
      "source": [
        "def construct_filter(filter_dic):\n",
        "    None"
      ],
      "execution_count": null,
      "outputs": []
    },
    {
      "cell_type": "markdown",
      "metadata": {
        "id": "RtKVGzcpqsIX"
      },
      "source": [
        "### Function to construct the URL"
      ]
    },
    {
      "cell_type": "code",
      "metadata": {
        "id": "GPsXikXsqsIX"
      },
      "source": [
        "def construct_url(filters):\n",
        "    None"
      ],
      "execution_count": null,
      "outputs": []
    },
    {
      "cell_type": "code",
      "metadata": {
        "id": "7RJ4rr4xqsIX"
      },
      "source": [
        "current_url = construct_url({'areaType':'nation',\n",
        "                            'areaName': 'england'})"
      ],
      "execution_count": null,
      "outputs": []
    },
    {
      "cell_type": "markdown",
      "metadata": {
        "id": "eoXDxaT_qsIX"
      },
      "source": [
        "### Using the URL function, get the data again"
      ]
    },
    {
      "cell_type": "code",
      "metadata": {
        "id": "kWc3bNIwqsIX"
      },
      "source": [
        ""
      ],
      "execution_count": null,
      "outputs": []
    },
    {
      "cell_type": "markdown",
      "metadata": {
        "id": "AKsdNhvWqsIX"
      },
      "source": [
        "### Function to get the data "
      ]
    },
    {
      "cell_type": "code",
      "metadata": {
        "id": "MCsVnCa9qsIX"
      },
      "source": [
        "def get_data(filter_dic):\n",
        "    None"
      ],
      "execution_count": null,
      "outputs": []
    },
    {
      "cell_type": "markdown",
      "metadata": {
        "id": "rCyHcMHdqsIX"
      },
      "source": [
        "## Use the package"
      ]
    },
    {
      "cell_type": "code",
      "metadata": {
        "id": "ztMajOUwqsIX"
      },
      "source": [
        "# !pip install uk-covid-19"
      ],
      "execution_count": null,
      "outputs": []
    },
    {
      "cell_type": "code",
      "metadata": {
        "id": "G7ZME0sRqsIX"
      },
      "source": [
        "from uk_covid19 import Cov19API"
      ],
      "execution_count": null,
      "outputs": []
    },
    {
      "cell_type": "code",
      "metadata": {
        "id": "uwnVYiCaqsIX"
      },
      "source": [
        "c_structure = {\n",
        "    \"date\": \"date\",\n",
        "    \"areaName\": \"areaName\",\n",
        "    \"areaCode\": \"areaCode\",\n",
        "    \"newCasesByPublishDate\": \"newCasesByPublishDate\",\n",
        "    \"cumCasesByPublishDate\": \"cumCasesByPublishDate\",\n",
        "    \"newDeathsByDeathDate\": \"newDeathsByDeathDate\",\n",
        "    \"cumDeathsByDeathDate\": \"cumDeathsByDeathDate\"\n",
        "}"
      ],
      "execution_count": null,
      "outputs": []
    },
    {
      "cell_type": "code",
      "metadata": {
        "id": "n2KkYtdXqsIX"
      },
      "source": [
        "c_filters = ['areaType=ltla',\n",
        "             'date=2020-11-01']"
      ],
      "execution_count": null,
      "outputs": []
    },
    {
      "cell_type": "code",
      "metadata": {
        "id": "JFsVrvuSqsIX"
      },
      "source": [
        "api = Cov19API(filters=c_filters, structure=c_structure)\n",
        "df_covid_2 = api.get_dataframe()"
      ],
      "execution_count": null,
      "outputs": []
    },
    {
      "cell_type": "code",
      "metadata": {
        "id": "F5AySGIEqsIX"
      },
      "source": [
        "df_covid_2"
      ],
      "execution_count": null,
      "outputs": []
    }
  ]
}